{
 "cells": [
  {
   "cell_type": "code",
   "execution_count": 2,
   "metadata": {},
   "outputs": [],
   "source": [
    "# Dependencies & Setup\n",
    "import pandas as pd\n",
    "\n",
    "# File to Upload \n",
    "file_to_load = \"Resources2/purchase_data.csv\"\n",
    "\n",
    "# Read Purchasing File & Store in Data Frame \n",
    "purchase_data = pd.read_csv(file_to_load)"
   ]
  },
  {
   "cell_type": "code",
   "execution_count": 3,
   "metadata": {},
   "outputs": [
    {
     "data": {
      "text/html": [
       "<div>\n",
       "<style scoped>\n",
       "    .dataframe tbody tr th:only-of-type {\n",
       "        vertical-align: middle;\n",
       "    }\n",
       "\n",
       "    .dataframe tbody tr th {\n",
       "        vertical-align: top;\n",
       "    }\n",
       "\n",
       "    .dataframe thead th {\n",
       "        text-align: right;\n",
       "    }\n",
       "</style>\n",
       "<table border=\"1\" class=\"dataframe\">\n",
       "  <thead>\n",
       "    <tr style=\"text-align: right;\">\n",
       "      <th></th>\n",
       "      <th>Total Players</th>\n",
       "    </tr>\n",
       "  </thead>\n",
       "  <tbody>\n",
       "    <tr>\n",
       "      <th>0</th>\n",
       "      <td>576</td>\n",
       "    </tr>\n",
       "  </tbody>\n",
       "</table>\n",
       "</div>"
      ],
      "text/plain": [
       "   Total Players\n",
       "0            576"
      ]
     },
     "execution_count": 3,
     "metadata": {},
     "output_type": "execute_result"
    }
   ],
   "source": [
    "# Player Count \n",
    "\n",
    "# Total Players (Using SN (Screen Name))\n",
    "total_players = len(purchase_data[\"SN\"].value_counts())\n",
    "\n",
    "# Create Data Frame Using Total Players \n",
    "player_count = pd.DataFrame({\"Total Players\":[total_players]})\n",
    "player_count"
   ]
  },
  {
   "cell_type": "code",
   "execution_count": 4,
   "metadata": {},
   "outputs": [
    {
     "data": {
      "text/html": [
       "<style  type=\"text/css\" >\n",
       "</style><table id=\"T_6d05af7a_d527_11ea_8787_b05adadc2e85\" ><thead>    <tr>        <th class=\"blank level0\" ></th>        <th class=\"col_heading level0 col0\" >Number of Unique Items</th>        <th class=\"col_heading level0 col1\" >Average Price</th>        <th class=\"col_heading level0 col2\" >Number of Purchase</th>        <th class=\"col_heading level0 col3\" >Total Revenue</th>    </tr></thead><tbody>\n",
       "                <tr>\n",
       "                        <th id=\"T_6d05af7a_d527_11ea_8787_b05adadc2e85level0_row0\" class=\"row_heading level0 row0\" >0</th>\n",
       "                        <td id=\"T_6d05af7a_d527_11ea_8787_b05adadc2e85row0_col0\" class=\"data row0 col0\" >179</td>\n",
       "                        <td id=\"T_6d05af7a_d527_11ea_8787_b05adadc2e85row0_col1\" class=\"data row0 col1\" >$3.05</td>\n",
       "                        <td id=\"T_6d05af7a_d527_11ea_8787_b05adadc2e85row0_col2\" class=\"data row0 col2\" >780</td>\n",
       "                        <td id=\"T_6d05af7a_d527_11ea_8787_b05adadc2e85row0_col3\" class=\"data row0 col3\" >$2,379.77</td>\n",
       "            </tr>\n",
       "    </tbody></table>"
      ],
      "text/plain": [
       "<pandas.io.formats.style.Styler at 0x1d90ec7bf48>"
      ]
     },
     "execution_count": 4,
     "metadata": {},
     "output_type": "execute_result"
    }
   ],
   "source": [
    "# Purchasing Analysis (Total)\n",
    "\n",
    "# Unique Items, Average Price, Number of Purchases, Total Revenue \n",
    "total_unique_items = len((purchase_data[\"Item ID\"]).unique())\n",
    "average_price = (purchase_data[\"Price\"]).mean()\n",
    "total_purchases = (purchase_data[\"Purchase ID\"]).count()\n",
    "total_revenue = (purchase_data[\"Price\"]).sum()\n",
    "\n",
    "# Create Data Frame \n",
    "summary_df = pd.DataFrame ({\"Number of Unique Items\":[total_unique_items],\n",
    "                            \"Average Price\":[average_price],\n",
    "                            \"Number of Purchase\":[total_purchases],\n",
    "                            \"Total Revenue\":[total_revenue]})\n",
    "# Format\n",
    "summary_df.style.format({\"Average Price\":\"${:,.2f}\",\n",
    "                         \"Total Revenue\": '${:,.2f}'})"
   ]
  },
  {
   "cell_type": "code",
   "execution_count": 5,
   "metadata": {},
   "outputs": [
    {
     "data": {
      "text/html": [
       "<style  type=\"text/css\" >\n",
       "</style><table id=\"T_6d56de2e_d527_11ea_97fe_b05adadc2e85\" ><thead>    <tr>        <th class=\"blank level0\" ></th>        <th class=\"col_heading level0 col0\" >Percentage of Players</th>        <th class=\"col_heading level0 col1\" >Total Count</th>    </tr></thead><tbody>\n",
       "                <tr>\n",
       "                        <th id=\"T_6d56de2e_d527_11ea_97fe_b05adadc2e85level0_row0\" class=\"row_heading level0 row0\" >Male</th>\n",
       "                        <td id=\"T_6d56de2e_d527_11ea_97fe_b05adadc2e85row0_col0\" class=\"data row0 col0\" >84.03</td>\n",
       "                        <td id=\"T_6d56de2e_d527_11ea_97fe_b05adadc2e85row0_col1\" class=\"data row0 col1\" >484</td>\n",
       "            </tr>\n",
       "            <tr>\n",
       "                        <th id=\"T_6d56de2e_d527_11ea_97fe_b05adadc2e85level0_row1\" class=\"row_heading level0 row1\" >Female</th>\n",
       "                        <td id=\"T_6d56de2e_d527_11ea_97fe_b05adadc2e85row1_col0\" class=\"data row1 col0\" >14.06</td>\n",
       "                        <td id=\"T_6d56de2e_d527_11ea_97fe_b05adadc2e85row1_col1\" class=\"data row1 col1\" >81</td>\n",
       "            </tr>\n",
       "            <tr>\n",
       "                        <th id=\"T_6d56de2e_d527_11ea_97fe_b05adadc2e85level0_row2\" class=\"row_heading level0 row2\" >Other / Non-Disclosed</th>\n",
       "                        <td id=\"T_6d56de2e_d527_11ea_97fe_b05adadc2e85row2_col0\" class=\"data row2 col0\" >1.91</td>\n",
       "                        <td id=\"T_6d56de2e_d527_11ea_97fe_b05adadc2e85row2_col1\" class=\"data row2 col1\" >11</td>\n",
       "            </tr>\n",
       "    </tbody></table>"
      ],
      "text/plain": [
       "<pandas.io.formats.style.Styler at 0x1d90ad4fdc8>"
      ]
     },
     "execution_count": 5,
     "metadata": {},
     "output_type": "execute_result"
    }
   ],
   "source": [
    "# Gender Demographics \n",
    "\n",
    "# Group By Gender \n",
    "gender_demo = purchase_data.groupby(\"Gender\")\n",
    "\n",
    "# Screen Names By Gender \n",
    "gender_total_count = gender_demo.nunique()[\"SN\"]\n",
    "\n",
    "# Percentage Count \n",
    "percentage_count = (gender_total_count) / (total_players) * 100\n",
    "\n",
    "# Create Data Frame \n",
    "gender_counts = pd.DataFrame({\"Percentage of Players\": percentage_count, \"Total Count\": gender_total_count})\n",
    "\n",
    "# Format\n",
    "gender_counts.index.name = None\n",
    "gender_counts.sort_values([\"Total Count\"], ascending = False).style.format({\"Percentage of Players\":\"{:.2f}\"})"
   ]
  },
  {
   "cell_type": "code",
   "execution_count": 6,
   "metadata": {},
   "outputs": [
    {
     "data": {
      "text/html": [
       "<style  type=\"text/css\" >\n",
       "</style><table id=\"T_6d62503e_d527_11ea_a86b_b05adadc2e85\" ><thead>    <tr>        <th class=\"blank level0\" ></th>        <th class=\"col_heading level0 col0\" >Purchase Count</th>        <th class=\"col_heading level0 col1\" >Average Purchase Price</th>        <th class=\"col_heading level0 col2\" >Total Purchase Value</th>        <th class=\"col_heading level0 col3\" >Average Total Purchase Per Person</th>    </tr>    <tr>        <th class=\"index_name level0\" >Gender</th>        <th class=\"blank\" ></th>        <th class=\"blank\" ></th>        <th class=\"blank\" ></th>        <th class=\"blank\" ></th>    </tr></thead><tbody>\n",
       "                <tr>\n",
       "                        <th id=\"T_6d62503e_d527_11ea_a86b_b05adadc2e85level0_row0\" class=\"row_heading level0 row0\" >Female</th>\n",
       "                        <td id=\"T_6d62503e_d527_11ea_a86b_b05adadc2e85row0_col0\" class=\"data row0 col0\" >113</td>\n",
       "                        <td id=\"T_6d62503e_d527_11ea_a86b_b05adadc2e85row0_col1\" class=\"data row0 col1\" >$361.94</td>\n",
       "                        <td id=\"T_6d62503e_d527_11ea_a86b_b05adadc2e85row0_col2\" class=\"data row0 col2\" >$3.20</td>\n",
       "                        <td id=\"T_6d62503e_d527_11ea_a86b_b05adadc2e85row0_col3\" class=\"data row0 col3\" >$4.47</td>\n",
       "            </tr>\n",
       "            <tr>\n",
       "                        <th id=\"T_6d62503e_d527_11ea_a86b_b05adadc2e85level0_row1\" class=\"row_heading level0 row1\" >Male</th>\n",
       "                        <td id=\"T_6d62503e_d527_11ea_a86b_b05adadc2e85row1_col0\" class=\"data row1 col0\" >652</td>\n",
       "                        <td id=\"T_6d62503e_d527_11ea_a86b_b05adadc2e85row1_col1\" class=\"data row1 col1\" >$1,967.64</td>\n",
       "                        <td id=\"T_6d62503e_d527_11ea_a86b_b05adadc2e85row1_col2\" class=\"data row1 col2\" >$3.02</td>\n",
       "                        <td id=\"T_6d62503e_d527_11ea_a86b_b05adadc2e85row1_col3\" class=\"data row1 col3\" >$4.07</td>\n",
       "            </tr>\n",
       "            <tr>\n",
       "                        <th id=\"T_6d62503e_d527_11ea_a86b_b05adadc2e85level0_row2\" class=\"row_heading level0 row2\" >Other / Non-Disclosed</th>\n",
       "                        <td id=\"T_6d62503e_d527_11ea_a86b_b05adadc2e85row2_col0\" class=\"data row2 col0\" >15</td>\n",
       "                        <td id=\"T_6d62503e_d527_11ea_a86b_b05adadc2e85row2_col1\" class=\"data row2 col1\" >$50.19</td>\n",
       "                        <td id=\"T_6d62503e_d527_11ea_a86b_b05adadc2e85row2_col2\" class=\"data row2 col2\" >$3.35</td>\n",
       "                        <td id=\"T_6d62503e_d527_11ea_a86b_b05adadc2e85row2_col3\" class=\"data row2 col3\" >$4.56</td>\n",
       "            </tr>\n",
       "    </tbody></table>"
      ],
      "text/plain": [
       "<pandas.io.formats.style.Styler at 0x1d90f24aa48>"
      ]
     },
     "execution_count": 6,
     "metadata": {},
     "output_type": "execute_result"
    }
   ],
   "source": [
    "# Purchasing Analysis (Gender)\n",
    "\n",
    "# Count Purchases By Gender\n",
    "gender_purchase_count = gender_demo[\"Purchase ID\"].count()\n",
    "\n",
    "# Average Total of each Gender Purchase \n",
    "average_purchase_total = gender_demo[\"Price\"].sum()\n",
    "\n",
    "# Average Price of each Gender Purchase \n",
    "average_purchase_price = gender_demo[\"Price\"].mean()\n",
    "\n",
    "# Average Purchase of Each Person Equation \n",
    "average_purchase_per_person = average_purchase_total/gender_total_count\n",
    "\n",
    "#Create Data Frame\n",
    "gender_counts = pd.DataFrame({\"Purchase Count\": gender_purchase_count,\n",
    "                              \"Average Purchase Price\": average_purchase_total,\n",
    "                              \"Total Purchase Value\": average_purchase_price,\n",
    "                              \"Average Total Purchase Per Person\": average_purchase_per_person})\n",
    "# Format\n",
    "gender_counts.index.name = \"Gender\"\n",
    "gender_counts.style.format({\"Average Purchase Price\":\"${:,.2f}\",\n",
    "                            \"Total Purchase Value\":\"${:,.2f}\",\n",
    "                            \"Average Total Purchase Per Person\":\"${:,.2f}\"})"
   ]
  },
  {
   "cell_type": "code",
   "execution_count": 7,
   "metadata": {},
   "outputs": [
    {
     "data": {
      "text/html": [
       "<style  type=\"text/css\" >\n",
       "</style><table id=\"T_6d829040_d527_11ea_a4aa_b05adadc2e85\" ><thead>    <tr>        <th class=\"blank level0\" ></th>        <th class=\"col_heading level0 col0\" >Percentage of Players</th>        <th class=\"col_heading level0 col1\" >Total Count</th>    </tr></thead><tbody>\n",
       "                <tr>\n",
       "                        <th id=\"T_6d829040_d527_11ea_a4aa_b05adadc2e85level0_row0\" class=\"row_heading level0 row0\" ><10</th>\n",
       "                        <td id=\"T_6d829040_d527_11ea_a4aa_b05adadc2e85row0_col0\" class=\"data row0 col0\" >2.95</td>\n",
       "                        <td id=\"T_6d829040_d527_11ea_a4aa_b05adadc2e85row0_col1\" class=\"data row0 col1\" >17</td>\n",
       "            </tr>\n",
       "            <tr>\n",
       "                        <th id=\"T_6d829040_d527_11ea_a4aa_b05adadc2e85level0_row1\" class=\"row_heading level0 row1\" >10-14</th>\n",
       "                        <td id=\"T_6d829040_d527_11ea_a4aa_b05adadc2e85row1_col0\" class=\"data row1 col0\" >3.82</td>\n",
       "                        <td id=\"T_6d829040_d527_11ea_a4aa_b05adadc2e85row1_col1\" class=\"data row1 col1\" >22</td>\n",
       "            </tr>\n",
       "            <tr>\n",
       "                        <th id=\"T_6d829040_d527_11ea_a4aa_b05adadc2e85level0_row2\" class=\"row_heading level0 row2\" >15-19</th>\n",
       "                        <td id=\"T_6d829040_d527_11ea_a4aa_b05adadc2e85row2_col0\" class=\"data row2 col0\" >18.58</td>\n",
       "                        <td id=\"T_6d829040_d527_11ea_a4aa_b05adadc2e85row2_col1\" class=\"data row2 col1\" >107</td>\n",
       "            </tr>\n",
       "            <tr>\n",
       "                        <th id=\"T_6d829040_d527_11ea_a4aa_b05adadc2e85level0_row3\" class=\"row_heading level0 row3\" >20-24</th>\n",
       "                        <td id=\"T_6d829040_d527_11ea_a4aa_b05adadc2e85row3_col0\" class=\"data row3 col0\" >44.79</td>\n",
       "                        <td id=\"T_6d829040_d527_11ea_a4aa_b05adadc2e85row3_col1\" class=\"data row3 col1\" >258</td>\n",
       "            </tr>\n",
       "            <tr>\n",
       "                        <th id=\"T_6d829040_d527_11ea_a4aa_b05adadc2e85level0_row4\" class=\"row_heading level0 row4\" >25-29</th>\n",
       "                        <td id=\"T_6d829040_d527_11ea_a4aa_b05adadc2e85row4_col0\" class=\"data row4 col0\" >13.37</td>\n",
       "                        <td id=\"T_6d829040_d527_11ea_a4aa_b05adadc2e85row4_col1\" class=\"data row4 col1\" >77</td>\n",
       "            </tr>\n",
       "            <tr>\n",
       "                        <th id=\"T_6d829040_d527_11ea_a4aa_b05adadc2e85level0_row5\" class=\"row_heading level0 row5\" >30-34</th>\n",
       "                        <td id=\"T_6d829040_d527_11ea_a4aa_b05adadc2e85row5_col0\" class=\"data row5 col0\" >9.03</td>\n",
       "                        <td id=\"T_6d829040_d527_11ea_a4aa_b05adadc2e85row5_col1\" class=\"data row5 col1\" >52</td>\n",
       "            </tr>\n",
       "            <tr>\n",
       "                        <th id=\"T_6d829040_d527_11ea_a4aa_b05adadc2e85level0_row6\" class=\"row_heading level0 row6\" >35-39</th>\n",
       "                        <td id=\"T_6d829040_d527_11ea_a4aa_b05adadc2e85row6_col0\" class=\"data row6 col0\" >5.38</td>\n",
       "                        <td id=\"T_6d829040_d527_11ea_a4aa_b05adadc2e85row6_col1\" class=\"data row6 col1\" >31</td>\n",
       "            </tr>\n",
       "            <tr>\n",
       "                        <th id=\"T_6d829040_d527_11ea_a4aa_b05adadc2e85level0_row7\" class=\"row_heading level0 row7\" >40+</th>\n",
       "                        <td id=\"T_6d829040_d527_11ea_a4aa_b05adadc2e85row7_col0\" class=\"data row7 col0\" >2.08</td>\n",
       "                        <td id=\"T_6d829040_d527_11ea_a4aa_b05adadc2e85row7_col1\" class=\"data row7 col1\" >12</td>\n",
       "            </tr>\n",
       "    </tbody></table>"
      ],
      "text/plain": [
       "<pandas.io.formats.style.Styler at 0x1d90ee81a08>"
      ]
     },
     "execution_count": 7,
     "metadata": {},
     "output_type": "execute_result"
    }
   ],
   "source": [
    "# Age Demographics \n",
    "bins = [0, 9.90, 14.90, 19.90, 24.90, 29.90, 34.90, 39.90, 99999]\n",
    "bin_names = [\"<10\", \"10-14\", \"15-19\", \"20-24\", \"25-29\", \"30-34\", \"35-39\", \"40+\"]\n",
    "\n",
    "# Place Age Values into Established Bins \n",
    "purchase_data[\"Age Group\"] = pd.cut(purchase_data[\"Age\"],bins, labels=bin_names)\n",
    "purchase_data\n",
    "\n",
    "# Date Frame Grouped By Age Group\n",
    "age_group = purchase_data.groupby(\"Age Group\")\n",
    "\n",
    "# Count of Players By Age Category \n",
    "age_count = age_group[\"SN\"].nunique()\n",
    "\n",
    "# Percentages By Age Category \n",
    "age_percentage = ((age_count)/(total_players)) * 100\n",
    "\n",
    "# Create Data Frame \n",
    "age_demo = pd.DataFrame({\"Percentage of Players\": age_percentage, \"Total Count\": age_count})\n",
    "\n",
    "# Format \n",
    "age_demo.index.name = None\n",
    "age_demo.style.format({\"Percentage of Players\":\"{:,.2f}\"})"
   ]
  },
  {
   "cell_type": "code",
   "execution_count": 8,
   "metadata": {},
   "outputs": [
    {
     "data": {
      "text/html": [
       "<style  type=\"text/css\" >\n",
       "</style><table id=\"T_6d8cf062_d527_11ea_bcfa_b05adadc2e85\" ><thead>    <tr>        <th class=\"blank level0\" ></th>        <th class=\"col_heading level0 col0\" >Purchase Count</th>        <th class=\"col_heading level0 col1\" >Average Purchase Price</th>        <th class=\"col_heading level0 col2\" >Total Purchase Value</th>        <th class=\"col_heading level0 col3\" >Average Purchase Total per Person</th>    </tr></thead><tbody>\n",
       "                <tr>\n",
       "                        <th id=\"T_6d8cf062_d527_11ea_bcfa_b05adadc2e85level0_row0\" class=\"row_heading level0 row0\" ><10</th>\n",
       "                        <td id=\"T_6d8cf062_d527_11ea_bcfa_b05adadc2e85row0_col0\" class=\"data row0 col0\" >23</td>\n",
       "                        <td id=\"T_6d8cf062_d527_11ea_bcfa_b05adadc2e85row0_col1\" class=\"data row0 col1\" >$3.35</td>\n",
       "                        <td id=\"T_6d8cf062_d527_11ea_bcfa_b05adadc2e85row0_col2\" class=\"data row0 col2\" >$77.13</td>\n",
       "                        <td id=\"T_6d8cf062_d527_11ea_bcfa_b05adadc2e85row0_col3\" class=\"data row0 col3\" >$4.54</td>\n",
       "            </tr>\n",
       "            <tr>\n",
       "                        <th id=\"T_6d8cf062_d527_11ea_bcfa_b05adadc2e85level0_row1\" class=\"row_heading level0 row1\" >10-14</th>\n",
       "                        <td id=\"T_6d8cf062_d527_11ea_bcfa_b05adadc2e85row1_col0\" class=\"data row1 col0\" >28</td>\n",
       "                        <td id=\"T_6d8cf062_d527_11ea_bcfa_b05adadc2e85row1_col1\" class=\"data row1 col1\" >$2.96</td>\n",
       "                        <td id=\"T_6d8cf062_d527_11ea_bcfa_b05adadc2e85row1_col2\" class=\"data row1 col2\" >$82.78</td>\n",
       "                        <td id=\"T_6d8cf062_d527_11ea_bcfa_b05adadc2e85row1_col3\" class=\"data row1 col3\" >$3.76</td>\n",
       "            </tr>\n",
       "            <tr>\n",
       "                        <th id=\"T_6d8cf062_d527_11ea_bcfa_b05adadc2e85level0_row2\" class=\"row_heading level0 row2\" >15-19</th>\n",
       "                        <td id=\"T_6d8cf062_d527_11ea_bcfa_b05adadc2e85row2_col0\" class=\"data row2 col0\" >136</td>\n",
       "                        <td id=\"T_6d8cf062_d527_11ea_bcfa_b05adadc2e85row2_col1\" class=\"data row2 col1\" >$3.04</td>\n",
       "                        <td id=\"T_6d8cf062_d527_11ea_bcfa_b05adadc2e85row2_col2\" class=\"data row2 col2\" >$412.89</td>\n",
       "                        <td id=\"T_6d8cf062_d527_11ea_bcfa_b05adadc2e85row2_col3\" class=\"data row2 col3\" >$3.86</td>\n",
       "            </tr>\n",
       "            <tr>\n",
       "                        <th id=\"T_6d8cf062_d527_11ea_bcfa_b05adadc2e85level0_row3\" class=\"row_heading level0 row3\" >20-24</th>\n",
       "                        <td id=\"T_6d8cf062_d527_11ea_bcfa_b05adadc2e85row3_col0\" class=\"data row3 col0\" >365</td>\n",
       "                        <td id=\"T_6d8cf062_d527_11ea_bcfa_b05adadc2e85row3_col1\" class=\"data row3 col1\" >$3.05</td>\n",
       "                        <td id=\"T_6d8cf062_d527_11ea_bcfa_b05adadc2e85row3_col2\" class=\"data row3 col2\" >$1,114.06</td>\n",
       "                        <td id=\"T_6d8cf062_d527_11ea_bcfa_b05adadc2e85row3_col3\" class=\"data row3 col3\" >$4.32</td>\n",
       "            </tr>\n",
       "            <tr>\n",
       "                        <th id=\"T_6d8cf062_d527_11ea_bcfa_b05adadc2e85level0_row4\" class=\"row_heading level0 row4\" >25-29</th>\n",
       "                        <td id=\"T_6d8cf062_d527_11ea_bcfa_b05adadc2e85row4_col0\" class=\"data row4 col0\" >101</td>\n",
       "                        <td id=\"T_6d8cf062_d527_11ea_bcfa_b05adadc2e85row4_col1\" class=\"data row4 col1\" >$2.90</td>\n",
       "                        <td id=\"T_6d8cf062_d527_11ea_bcfa_b05adadc2e85row4_col2\" class=\"data row4 col2\" >$293.00</td>\n",
       "                        <td id=\"T_6d8cf062_d527_11ea_bcfa_b05adadc2e85row4_col3\" class=\"data row4 col3\" >$3.81</td>\n",
       "            </tr>\n",
       "            <tr>\n",
       "                        <th id=\"T_6d8cf062_d527_11ea_bcfa_b05adadc2e85level0_row5\" class=\"row_heading level0 row5\" >30-34</th>\n",
       "                        <td id=\"T_6d8cf062_d527_11ea_bcfa_b05adadc2e85row5_col0\" class=\"data row5 col0\" >73</td>\n",
       "                        <td id=\"T_6d8cf062_d527_11ea_bcfa_b05adadc2e85row5_col1\" class=\"data row5 col1\" >$2.93</td>\n",
       "                        <td id=\"T_6d8cf062_d527_11ea_bcfa_b05adadc2e85row5_col2\" class=\"data row5 col2\" >$214.00</td>\n",
       "                        <td id=\"T_6d8cf062_d527_11ea_bcfa_b05adadc2e85row5_col3\" class=\"data row5 col3\" >$4.12</td>\n",
       "            </tr>\n",
       "            <tr>\n",
       "                        <th id=\"T_6d8cf062_d527_11ea_bcfa_b05adadc2e85level0_row6\" class=\"row_heading level0 row6\" >35-39</th>\n",
       "                        <td id=\"T_6d8cf062_d527_11ea_bcfa_b05adadc2e85row6_col0\" class=\"data row6 col0\" >41</td>\n",
       "                        <td id=\"T_6d8cf062_d527_11ea_bcfa_b05adadc2e85row6_col1\" class=\"data row6 col1\" >$3.60</td>\n",
       "                        <td id=\"T_6d8cf062_d527_11ea_bcfa_b05adadc2e85row6_col2\" class=\"data row6 col2\" >$147.67</td>\n",
       "                        <td id=\"T_6d8cf062_d527_11ea_bcfa_b05adadc2e85row6_col3\" class=\"data row6 col3\" >$4.76</td>\n",
       "            </tr>\n",
       "            <tr>\n",
       "                        <th id=\"T_6d8cf062_d527_11ea_bcfa_b05adadc2e85level0_row7\" class=\"row_heading level0 row7\" >40+</th>\n",
       "                        <td id=\"T_6d8cf062_d527_11ea_bcfa_b05adadc2e85row7_col0\" class=\"data row7 col0\" >13</td>\n",
       "                        <td id=\"T_6d8cf062_d527_11ea_bcfa_b05adadc2e85row7_col1\" class=\"data row7 col1\" >$2.94</td>\n",
       "                        <td id=\"T_6d8cf062_d527_11ea_bcfa_b05adadc2e85row7_col2\" class=\"data row7 col2\" >$38.24</td>\n",
       "                        <td id=\"T_6d8cf062_d527_11ea_bcfa_b05adadc2e85row7_col3\" class=\"data row7 col3\" >$3.19</td>\n",
       "            </tr>\n",
       "    </tbody></table>"
      ],
      "text/plain": [
       "<pandas.io.formats.style.Styler at 0x1d90fc99ac8>"
      ]
     },
     "execution_count": 8,
     "metadata": {},
     "output_type": "execute_result"
    }
   ],
   "source": [
    "# Purchase Analysis (Age)\n",
    "\n",
    "# Purchases By Age Group\n",
    "age_purchase_count = age_group[\"Purchase ID\"].count()\n",
    "\n",
    "# Average Purchase Price By Age Group\n",
    "age_average_purchase = age_group[\"Price\"].mean()\n",
    "\n",
    "# Total Purchase Value By Age Group\n",
    "total_purchase_value = age_group[\"Price\"].sum()\n",
    "\n",
    "# Average Purchase Per Person \n",
    "average_purchase_per_person = (total_purchase_value)/(age_count)\n",
    "\n",
    "# Create Data Frame \n",
    "age_demo = pd.DataFrame({\"Purchase Count\": age_purchase_count,\n",
    "                         \"Average Purchase Price\": age_average_purchase,\n",
    "                         \"Total Purchase Value\":total_purchase_value,\n",
    "                         \"Average Purchase Total per Person\": average_purchase_per_person})\n",
    "\n",
    "# Format \n",
    "age_demo.index.name = None\n",
    "age_demo.style.format({\"Average Purchase Price\":\"${:,.2f}\",\n",
    "                       \"Total Purchase Value\":\"${:,.2f}\",\n",
    "                       \"Average Purchase Total per Person\":\"${:,.2f}\"})"
   ]
  },
  {
   "cell_type": "code",
   "execution_count": 10,
   "metadata": {},
   "outputs": [
    {
     "data": {
      "text/html": [
       "<style  type=\"text/css\" >\n",
       "</style><table id=\"T_35b9bb08_d52e_11ea_b317_b05adadc2e85\" ><thead>    <tr>        <th class=\"blank level0\" ></th>        <th class=\"col_heading level0 col0\" >Purchase Count</th>        <th class=\"col_heading level0 col1\" >Average Purchase Price</th>        <th class=\"col_heading level0 col2\" >Total Purchase Value</th>    </tr>    <tr>        <th class=\"index_name level0\" >SN</th>        <th class=\"blank\" ></th>        <th class=\"blank\" ></th>        <th class=\"blank\" ></th>    </tr></thead><tbody>\n",
       "                <tr>\n",
       "                        <th id=\"T_35b9bb08_d52e_11ea_b317_b05adadc2e85level0_row0\" class=\"row_heading level0 row0\" >Lisosia93</th>\n",
       "                        <td id=\"T_35b9bb08_d52e_11ea_b317_b05adadc2e85row0_col0\" class=\"data row0 col0\" >5</td>\n",
       "                        <td id=\"T_35b9bb08_d52e_11ea_b317_b05adadc2e85row0_col1\" class=\"data row0 col1\" >$3.79</td>\n",
       "                        <td id=\"T_35b9bb08_d52e_11ea_b317_b05adadc2e85row0_col2\" class=\"data row0 col2\" >$18.96</td>\n",
       "            </tr>\n",
       "            <tr>\n",
       "                        <th id=\"T_35b9bb08_d52e_11ea_b317_b05adadc2e85level0_row1\" class=\"row_heading level0 row1\" >Idastidru52</th>\n",
       "                        <td id=\"T_35b9bb08_d52e_11ea_b317_b05adadc2e85row1_col0\" class=\"data row1 col0\" >4</td>\n",
       "                        <td id=\"T_35b9bb08_d52e_11ea_b317_b05adadc2e85row1_col1\" class=\"data row1 col1\" >$3.86</td>\n",
       "                        <td id=\"T_35b9bb08_d52e_11ea_b317_b05adadc2e85row1_col2\" class=\"data row1 col2\" >$15.45</td>\n",
       "            </tr>\n",
       "            <tr>\n",
       "                        <th id=\"T_35b9bb08_d52e_11ea_b317_b05adadc2e85level0_row2\" class=\"row_heading level0 row2\" >Chamjask73</th>\n",
       "                        <td id=\"T_35b9bb08_d52e_11ea_b317_b05adadc2e85row2_col0\" class=\"data row2 col0\" >3</td>\n",
       "                        <td id=\"T_35b9bb08_d52e_11ea_b317_b05adadc2e85row2_col1\" class=\"data row2 col1\" >$4.61</td>\n",
       "                        <td id=\"T_35b9bb08_d52e_11ea_b317_b05adadc2e85row2_col2\" class=\"data row2 col2\" >$13.83</td>\n",
       "            </tr>\n",
       "            <tr>\n",
       "                        <th id=\"T_35b9bb08_d52e_11ea_b317_b05adadc2e85level0_row3\" class=\"row_heading level0 row3\" >Iral74</th>\n",
       "                        <td id=\"T_35b9bb08_d52e_11ea_b317_b05adadc2e85row3_col0\" class=\"data row3 col0\" >4</td>\n",
       "                        <td id=\"T_35b9bb08_d52e_11ea_b317_b05adadc2e85row3_col1\" class=\"data row3 col1\" >$3.40</td>\n",
       "                        <td id=\"T_35b9bb08_d52e_11ea_b317_b05adadc2e85row3_col2\" class=\"data row3 col2\" >$13.62</td>\n",
       "            </tr>\n",
       "            <tr>\n",
       "                        <th id=\"T_35b9bb08_d52e_11ea_b317_b05adadc2e85level0_row4\" class=\"row_heading level0 row4\" >Iskadarya95</th>\n",
       "                        <td id=\"T_35b9bb08_d52e_11ea_b317_b05adadc2e85row4_col0\" class=\"data row4 col0\" >3</td>\n",
       "                        <td id=\"T_35b9bb08_d52e_11ea_b317_b05adadc2e85row4_col1\" class=\"data row4 col1\" >$4.37</td>\n",
       "                        <td id=\"T_35b9bb08_d52e_11ea_b317_b05adadc2e85row4_col2\" class=\"data row4 col2\" >$13.10</td>\n",
       "            </tr>\n",
       "    </tbody></table>"
      ],
      "text/plain": [
       "<pandas.io.formats.style.Styler at 0x1d90fc1bf08>"
      ]
     },
     "execution_count": 10,
     "metadata": {},
     "output_type": "execute_result"
    }
   ],
   "source": [
    "# Top Spenders \n",
    "\n",
    "# Purchase Data Grouped by Screen Name\n",
    "screen_name = purchase_data.groupby(\"SN\")\n",
    "\n",
    "# Total Purchases by Name \n",
    "spender_name = screen_name[\"Purchase ID\"].count()\n",
    "\n",
    "# Average Purchase by Name \n",
    "spender_average = screen_name[\"Price\"].mean()\n",
    "\n",
    "# Purchase Total by Name \n",
    "spender_total = screen_name[\"Price\"].sum()\n",
    "\n",
    "# Create Data Frame \n",
    "top_spenders = pd.DataFrame({\"Purchase Count\": spender_name,\n",
    "                             \"Average Purchase Price\": spender_average,\n",
    "                             \"Total Purchase Value\": spender_total})\n",
    "\n",
    "# Format\n",
    "top_spenders_format = top_spenders.sort_values([\"Total Purchase Value\"], ascending=False).head()\n",
    "top_spenders_format.style.format({\"Average Purchase Total\":\"${:,.2f}\",\n",
    "                              \"Average Purchase Price\":\"${:,.2f}\", \n",
    "                              \"Total Purchase Value\":\"${:,.2f}\"})"
   ]
  },
  {
   "cell_type": "code",
   "execution_count": 12,
   "metadata": {},
   "outputs": [
    {
     "data": {
      "text/html": [
       "<style  type=\"text/css\" >\n",
       "</style><table id=\"T_d5cbb562_d52e_11ea_b1b6_b05adadc2e85\" ><thead>    <tr>        <th class=\"blank\" ></th>        <th class=\"blank level0\" ></th>        <th class=\"col_heading level0 col0\" >Purchase Count</th>        <th class=\"col_heading level0 col1\" >Item Price</th>        <th class=\"col_heading level0 col2\" >Total Purchase Value</th>    </tr>    <tr>        <th class=\"index_name level0\" >Item ID</th>        <th class=\"index_name level1\" >Item Name</th>        <th class=\"blank\" ></th>        <th class=\"blank\" ></th>        <th class=\"blank\" ></th>    </tr></thead><tbody>\n",
       "                <tr>\n",
       "                        <th id=\"T_d5cbb562_d52e_11ea_b1b6_b05adadc2e85level0_row0\" class=\"row_heading level0 row0\" >92</th>\n",
       "                        <th id=\"T_d5cbb562_d52e_11ea_b1b6_b05adadc2e85level1_row0\" class=\"row_heading level1 row0\" >Final Critic</th>\n",
       "                        <td id=\"T_d5cbb562_d52e_11ea_b1b6_b05adadc2e85row0_col0\" class=\"data row0 col0\" >13</td>\n",
       "                        <td id=\"T_d5cbb562_d52e_11ea_b1b6_b05adadc2e85row0_col1\" class=\"data row0 col1\" >$4.61</td>\n",
       "                        <td id=\"T_d5cbb562_d52e_11ea_b1b6_b05adadc2e85row0_col2\" class=\"data row0 col2\" >$59.99</td>\n",
       "            </tr>\n",
       "            <tr>\n",
       "                        <th id=\"T_d5cbb562_d52e_11ea_b1b6_b05adadc2e85level0_row1\" class=\"row_heading level0 row1\" >178</th>\n",
       "                        <th id=\"T_d5cbb562_d52e_11ea_b1b6_b05adadc2e85level1_row1\" class=\"row_heading level1 row1\" >Oathbreaker, Last Hope of the Breaking Storm</th>\n",
       "                        <td id=\"T_d5cbb562_d52e_11ea_b1b6_b05adadc2e85row1_col0\" class=\"data row1 col0\" >12</td>\n",
       "                        <td id=\"T_d5cbb562_d52e_11ea_b1b6_b05adadc2e85row1_col1\" class=\"data row1 col1\" >$4.23</td>\n",
       "                        <td id=\"T_d5cbb562_d52e_11ea_b1b6_b05adadc2e85row1_col2\" class=\"data row1 col2\" >$50.76</td>\n",
       "            </tr>\n",
       "            <tr>\n",
       "                        <th id=\"T_d5cbb562_d52e_11ea_b1b6_b05adadc2e85level0_row2\" class=\"row_heading level0 row2\" >145</th>\n",
       "                        <th id=\"T_d5cbb562_d52e_11ea_b1b6_b05adadc2e85level1_row2\" class=\"row_heading level1 row2\" >Fiery Glass Crusader</th>\n",
       "                        <td id=\"T_d5cbb562_d52e_11ea_b1b6_b05adadc2e85row2_col0\" class=\"data row2 col0\" >9</td>\n",
       "                        <td id=\"T_d5cbb562_d52e_11ea_b1b6_b05adadc2e85row2_col1\" class=\"data row2 col1\" >$4.58</td>\n",
       "                        <td id=\"T_d5cbb562_d52e_11ea_b1b6_b05adadc2e85row2_col2\" class=\"data row2 col2\" >$41.22</td>\n",
       "            </tr>\n",
       "            <tr>\n",
       "                        <th id=\"T_d5cbb562_d52e_11ea_b1b6_b05adadc2e85level0_row3\" class=\"row_heading level0 row3\" >132</th>\n",
       "                        <th id=\"T_d5cbb562_d52e_11ea_b1b6_b05adadc2e85level1_row3\" class=\"row_heading level1 row3\" >Persuasion</th>\n",
       "                        <td id=\"T_d5cbb562_d52e_11ea_b1b6_b05adadc2e85row3_col0\" class=\"data row3 col0\" >9</td>\n",
       "                        <td id=\"T_d5cbb562_d52e_11ea_b1b6_b05adadc2e85row3_col1\" class=\"data row3 col1\" >$3.22</td>\n",
       "                        <td id=\"T_d5cbb562_d52e_11ea_b1b6_b05adadc2e85row3_col2\" class=\"data row3 col2\" >$28.99</td>\n",
       "            </tr>\n",
       "            <tr>\n",
       "                        <th id=\"T_d5cbb562_d52e_11ea_b1b6_b05adadc2e85level0_row4\" class=\"row_heading level0 row4\" >108</th>\n",
       "                        <th id=\"T_d5cbb562_d52e_11ea_b1b6_b05adadc2e85level1_row4\" class=\"row_heading level1 row4\" >Extraction, Quickblade Of Trembling Hands</th>\n",
       "                        <td id=\"T_d5cbb562_d52e_11ea_b1b6_b05adadc2e85row4_col0\" class=\"data row4 col0\" >9</td>\n",
       "                        <td id=\"T_d5cbb562_d52e_11ea_b1b6_b05adadc2e85row4_col1\" class=\"data row4 col1\" >$3.53</td>\n",
       "                        <td id=\"T_d5cbb562_d52e_11ea_b1b6_b05adadc2e85row4_col2\" class=\"data row4 col2\" >$31.77</td>\n",
       "            </tr>\n",
       "    </tbody></table>"
      ],
      "text/plain": [
       "<pandas.io.formats.style.Styler at 0x1d90fc9c288>"
      ]
     },
     "execution_count": 12,
     "metadata": {},
     "output_type": "execute_result"
    }
   ],
   "source": [
    "# Most Popular Items \n",
    "\n",
    "# Items \n",
    "items = purchase_data[[\"Item ID\", \"Item Name\", \"Price\"]]\n",
    "\n",
    "# Group Items \n",
    "items_group = items.groupby([\"Item ID\",\"Item Name\"])\n",
    "\n",
    "# Times Item Purchased \n",
    "items_purchased = items_group[\"Price\"].count()\n",
    "\n",
    "# Purchase Value Per Item \n",
    "purchase_value = (items_group[\"Price\"].sum()) \n",
    "\n",
    "# Item Price\n",
    "items_price = (purchase_value)/(items_purchased)\n",
    "\n",
    "# Create Data Frame \n",
    "items_most_popular = pd.DataFrame({\"Purchase Count\": items_purchased, \n",
    "                                   \"Item Price\": items_price,\n",
    "                                   \"Total Purchase Value\": purchase_value})\n",
    "\n",
    "# Format\n",
    "items_most_popular_format = items_most_popular.sort_values([\"Purchase Count\"], ascending=False).head()\n",
    "items_most_popular_format.style.format({\"Item Price\":\"${:,.2f}\",\n",
    "                                           \"Total Purchase Value\":\"${:,.2f}\"})"
   ]
  },
  {
   "cell_type": "code",
   "execution_count": 14,
   "metadata": {},
   "outputs": [
    {
     "data": {
      "text/html": [
       "<style  type=\"text/css\" >\n",
       "</style><table id=\"T_4a1a3922_d530_11ea_b8bc_b05adadc2e85\" ><thead>    <tr>        <th class=\"blank\" ></th>        <th class=\"blank level0\" ></th>        <th class=\"col_heading level0 col0\" >Purchase Count</th>        <th class=\"col_heading level0 col1\" >Item Price</th>        <th class=\"col_heading level0 col2\" >Total Purchase Value</th>    </tr>    <tr>        <th class=\"index_name level0\" >Item ID</th>        <th class=\"index_name level1\" >Item Name</th>        <th class=\"blank\" ></th>        <th class=\"blank\" ></th>        <th class=\"blank\" ></th>    </tr></thead><tbody>\n",
       "                <tr>\n",
       "                        <th id=\"T_4a1a3922_d530_11ea_b8bc_b05adadc2e85level0_row0\" class=\"row_heading level0 row0\" >92</th>\n",
       "                        <th id=\"T_4a1a3922_d530_11ea_b8bc_b05adadc2e85level1_row0\" class=\"row_heading level1 row0\" >Final Critic</th>\n",
       "                        <td id=\"T_4a1a3922_d530_11ea_b8bc_b05adadc2e85row0_col0\" class=\"data row0 col0\" >13</td>\n",
       "                        <td id=\"T_4a1a3922_d530_11ea_b8bc_b05adadc2e85row0_col1\" class=\"data row0 col1\" >$4.61</td>\n",
       "                        <td id=\"T_4a1a3922_d530_11ea_b8bc_b05adadc2e85row0_col2\" class=\"data row0 col2\" >$59.99</td>\n",
       "            </tr>\n",
       "            <tr>\n",
       "                        <th id=\"T_4a1a3922_d530_11ea_b8bc_b05adadc2e85level0_row1\" class=\"row_heading level0 row1\" >178</th>\n",
       "                        <th id=\"T_4a1a3922_d530_11ea_b8bc_b05adadc2e85level1_row1\" class=\"row_heading level1 row1\" >Oathbreaker, Last Hope of the Breaking Storm</th>\n",
       "                        <td id=\"T_4a1a3922_d530_11ea_b8bc_b05adadc2e85row1_col0\" class=\"data row1 col0\" >12</td>\n",
       "                        <td id=\"T_4a1a3922_d530_11ea_b8bc_b05adadc2e85row1_col1\" class=\"data row1 col1\" >$4.23</td>\n",
       "                        <td id=\"T_4a1a3922_d530_11ea_b8bc_b05adadc2e85row1_col2\" class=\"data row1 col2\" >$50.76</td>\n",
       "            </tr>\n",
       "            <tr>\n",
       "                        <th id=\"T_4a1a3922_d530_11ea_b8bc_b05adadc2e85level0_row2\" class=\"row_heading level0 row2\" >82</th>\n",
       "                        <th id=\"T_4a1a3922_d530_11ea_b8bc_b05adadc2e85level1_row2\" class=\"row_heading level1 row2\" >Nirvana</th>\n",
       "                        <td id=\"T_4a1a3922_d530_11ea_b8bc_b05adadc2e85row2_col0\" class=\"data row2 col0\" >9</td>\n",
       "                        <td id=\"T_4a1a3922_d530_11ea_b8bc_b05adadc2e85row2_col1\" class=\"data row2 col1\" >$4.90</td>\n",
       "                        <td id=\"T_4a1a3922_d530_11ea_b8bc_b05adadc2e85row2_col2\" class=\"data row2 col2\" >$44.10</td>\n",
       "            </tr>\n",
       "            <tr>\n",
       "                        <th id=\"T_4a1a3922_d530_11ea_b8bc_b05adadc2e85level0_row3\" class=\"row_heading level0 row3\" >145</th>\n",
       "                        <th id=\"T_4a1a3922_d530_11ea_b8bc_b05adadc2e85level1_row3\" class=\"row_heading level1 row3\" >Fiery Glass Crusader</th>\n",
       "                        <td id=\"T_4a1a3922_d530_11ea_b8bc_b05adadc2e85row3_col0\" class=\"data row3 col0\" >9</td>\n",
       "                        <td id=\"T_4a1a3922_d530_11ea_b8bc_b05adadc2e85row3_col1\" class=\"data row3 col1\" >$4.58</td>\n",
       "                        <td id=\"T_4a1a3922_d530_11ea_b8bc_b05adadc2e85row3_col2\" class=\"data row3 col2\" >$41.22</td>\n",
       "            </tr>\n",
       "            <tr>\n",
       "                        <th id=\"T_4a1a3922_d530_11ea_b8bc_b05adadc2e85level0_row4\" class=\"row_heading level0 row4\" >103</th>\n",
       "                        <th id=\"T_4a1a3922_d530_11ea_b8bc_b05adadc2e85level1_row4\" class=\"row_heading level1 row4\" >Singed Scalpel</th>\n",
       "                        <td id=\"T_4a1a3922_d530_11ea_b8bc_b05adadc2e85row4_col0\" class=\"data row4 col0\" >8</td>\n",
       "                        <td id=\"T_4a1a3922_d530_11ea_b8bc_b05adadc2e85row4_col1\" class=\"data row4 col1\" >$4.35</td>\n",
       "                        <td id=\"T_4a1a3922_d530_11ea_b8bc_b05adadc2e85row4_col2\" class=\"data row4 col2\" >$34.80</td>\n",
       "            </tr>\n",
       "    </tbody></table>"
      ],
      "text/plain": [
       "<pandas.io.formats.style.Styler at 0x1d90fcbf688>"
      ]
     },
     "execution_count": 14,
     "metadata": {},
     "output_type": "execute_result"
    }
   ],
   "source": [
    "# Most Profitable Items \n",
    "\n",
    "# Format to find Most Profitable Using Data Frame Previously Created \n",
    "items_most_popular_format = items_most_popular.sort_values([\"Total Purchase Value\"],\n",
    "                                                   ascending=False).head()\n",
    "items_most_popular_format.style.format({\"Item Price\":\"${:,.2f}\",\n",
    "                                \"Total Purchase Value\":\"${:,.2f}\"})"
   ]
  }
 ],
 "metadata": {
  "kernelspec": {
   "display_name": "Python 3",
   "language": "python",
   "name": "python3"
  },
  "language_info": {
   "codemirror_mode": {
    "name": "ipython",
    "version": 3
   },
   "file_extension": ".py",
   "mimetype": "text/x-python",
   "name": "python",
   "nbconvert_exporter": "python",
   "pygments_lexer": "ipython3",
   "version": "3.7.6"
  }
 },
 "nbformat": 4,
 "nbformat_minor": 4
}
